{
 "cells": [
  {
   "cell_type": "code",
   "execution_count": 38,
   "id": "4d07441c",
   "metadata": {},
   "outputs": [],
   "source": [
    "import pandas as pd\n",
    "import numpy as np\n",
    "\n",
    "import sklearn\n",
    "from sklearn.base import BaseEstimator, TransformerMixin, RegressorMixin\n",
    "from sklearn.compose import ColumnTransformer\n",
    "from sklearn.feature_extraction import DictVectorizer\n",
    "from sklearn.preprocessing import FunctionTransformer, PolynomialFeatures\n",
    "from sklearn.pipeline import Pipeline\n",
    "from sklearn.linear_model import LinearRegression, Ridge\n",
    "from sklearn.model_selection import train_test_split\n",
    "from sklearn.decomposition import PCA\n",
    "from sklearn.cluster import KMeans\n",
    "from sklearn.tree import DecisionTreeRegressor\n",
    "from sklearn import metrics\n",
    "\n",
    "import matplotlib.pyplot as plt\n",
    "import seaborn as sns"
   ]
  },
  {
   "cell_type": "code",
   "execution_count": 2,
   "id": "dd798bce",
   "metadata": {},
   "outputs": [
    {
     "data": {
      "text/html": [
       "<div>\n",
       "<style scoped>\n",
       "    .dataframe tbody tr th:only-of-type {\n",
       "        vertical-align: middle;\n",
       "    }\n",
       "\n",
       "    .dataframe tbody tr th {\n",
       "        vertical-align: top;\n",
       "    }\n",
       "\n",
       "    .dataframe thead th {\n",
       "        text-align: right;\n",
       "    }\n",
       "</style>\n",
       "<table border=\"1\" class=\"dataframe\">\n",
       "  <thead>\n",
       "    <tr style=\"text-align: right;\">\n",
       "      <th></th>\n",
       "      <th>year</th>\n",
       "      <th>age</th>\n",
       "      <th>num_players</th>\n",
       "      <th>duration</th>\n",
       "      <th>mechanics</th>\n",
       "      <th>categories</th>\n",
       "      <th>families</th>\n",
       "      <th>num_expansions</th>\n",
       "      <th>num_honors</th>\n",
       "      <th>num_episodes</th>\n",
       "      <th>poll_age</th>\n",
       "      <th>poll_numpl</th>\n",
       "      <th>num_rated</th>\n",
       "      <th>num_comments</th>\n",
       "      <th>rating</th>\n",
       "      <th>bayes_rating</th>\n",
       "    </tr>\n",
       "  </thead>\n",
       "  <tbody>\n",
       "    <tr>\n",
       "      <th>387</th>\n",
       "      <td>2000</td>\n",
       "      <td>10</td>\n",
       "      <td>[3, 7]</td>\n",
       "      <td>[45.0, 45.0, 45.0]</td>\n",
       "      <td>[Hand Management]</td>\n",
       "      <td>[Bluffing, Card Game]</td>\n",
       "      <td>[Series: Blue Games (Descartes)]</td>\n",
       "      <td>0</td>\n",
       "      <td>0</td>\n",
       "      <td>0</td>\n",
       "      <td>[[2, 0], [3, 0], [4, 0], [5, 0], [6, 0], [8, 0...</td>\n",
       "      <td>[[1, [0, 0, 4]], [2, [0, 0, 4]], [3, [0, 6, 0]...</td>\n",
       "      <td>337</td>\n",
       "      <td>133</td>\n",
       "      <td>5.81844</td>\n",
       "      <td>5.55090</td>\n",
       "    </tr>\n",
       "    <tr>\n",
       "      <th>475</th>\n",
       "      <td>2000</td>\n",
       "      <td>12</td>\n",
       "      <td>[2, 5]</td>\n",
       "      <td>[90.0, 45.0, 90.0]</td>\n",
       "      <td>[Auction, Card Drafting, Hand Management, Netw...</td>\n",
       "      <td>[Bluffing, Political]</td>\n",
       "      <td>[Cities: Agra (India), Country: India, Series:...</td>\n",
       "      <td>0</td>\n",
       "      <td>5</td>\n",
       "      <td>5</td>\n",
       "      <td>[[2, 0], [3, 0], [4, 0], [5, 0], [6, 0], [8, 1...</td>\n",
       "      <td>[[1, [0, 0, 84]], [2, [0, 14, 82]], [3, [13, 6...</td>\n",
       "      <td>7149</td>\n",
       "      <td>2231</td>\n",
       "      <td>7.27751</td>\n",
       "      <td>6.93109</td>\n",
       "    </tr>\n",
       "    <tr>\n",
       "      <th>478</th>\n",
       "      <td>2000</td>\n",
       "      <td>10</td>\n",
       "      <td>[2, 8]</td>\n",
       "      <td>[60.0, 20.0, 60.0]</td>\n",
       "      <td>[Action Drafting, Card Drafting, Drafting, Los...</td>\n",
       "      <td>[Bluffing, Card Game, City Building, Deduction...</td>\n",
       "      <td>[Mechanism: Tableau Building, Series: Fantasy ...</td>\n",
       "      <td>1</td>\n",
       "      <td>7</td>\n",
       "      <td>17</td>\n",
       "      <td>[[2, 0], [3, 0], [4, 0], [5, 0], [6, 14], [8, ...</td>\n",
       "      <td>[[1, [1, 4, 612]], [2, [179, 313, 423]], [3, [...</td>\n",
       "      <td>49176</td>\n",
       "      <td>9840</td>\n",
       "      <td>7.07999</td>\n",
       "      <td>6.97364</td>\n",
       "    </tr>\n",
       "    <tr>\n",
       "      <th>481</th>\n",
       "      <td>2000</td>\n",
       "      <td>12</td>\n",
       "      <td>[2, 4]</td>\n",
       "      <td>[60.0, 60.0, 60.0]</td>\n",
       "      <td>[Area Majority / Influence, Dice Rolling, Hand...</td>\n",
       "      <td>[Abstract Strategy, Medieval, Territory Building]</td>\n",
       "      <td>[Digital Implementations: Yucata]</td>\n",
       "      <td>0</td>\n",
       "      <td>1</td>\n",
       "      <td>3</td>\n",
       "      <td>[[2, 0], [3, 0], [4, 0], [5, 1], [6, 0], [8, 0...</td>\n",
       "      <td>[[1, [0, 0, 54]], [2, [35, 54, 7]], [3, [58, 3...</td>\n",
       "      <td>3429</td>\n",
       "      <td>1094</td>\n",
       "      <td>6.81879</td>\n",
       "      <td>6.38725</td>\n",
       "    </tr>\n",
       "    <tr>\n",
       "      <th>490</th>\n",
       "      <td>2000</td>\n",
       "      <td>12</td>\n",
       "      <td>[2, 6]</td>\n",
       "      <td>[60.0, 60.0, 60.0]</td>\n",
       "      <td>[Dice Rolling, Hexagon Grid]</td>\n",
       "      <td>[Fantasy, Mythology, Print &amp; Play, Wargame]</td>\n",
       "      <td>[]</td>\n",
       "      <td>0</td>\n",
       "      <td>1</td>\n",
       "      <td>0</td>\n",
       "      <td>[[2, 0], [3, 0], [4, 0], [5, 0], [6, 1], [8, 4...</td>\n",
       "      <td>[[1, [0, 2, 2]], [2, [8, 3, 0]], [3, [1, 6, 3]...</td>\n",
       "      <td>262</td>\n",
       "      <td>201</td>\n",
       "      <td>7.70292</td>\n",
       "      <td>5.65154</td>\n",
       "    </tr>\n",
       "  </tbody>\n",
       "</table>\n",
       "</div>"
      ],
      "text/plain": [
       "     year  age num_players            duration  \\\n",
       "387  2000   10      [3, 7]  [45.0, 45.0, 45.0]   \n",
       "475  2000   12      [2, 5]  [90.0, 45.0, 90.0]   \n",
       "478  2000   10      [2, 8]  [60.0, 20.0, 60.0]   \n",
       "481  2000   12      [2, 4]  [60.0, 60.0, 60.0]   \n",
       "490  2000   12      [2, 6]  [60.0, 60.0, 60.0]   \n",
       "\n",
       "                                             mechanics  \\\n",
       "387                                  [Hand Management]   \n",
       "475  [Auction, Card Drafting, Hand Management, Netw...   \n",
       "478  [Action Drafting, Card Drafting, Drafting, Los...   \n",
       "481  [Area Majority / Influence, Dice Rolling, Hand...   \n",
       "490                       [Dice Rolling, Hexagon Grid]   \n",
       "\n",
       "                                            categories  \\\n",
       "387                              [Bluffing, Card Game]   \n",
       "475                              [Bluffing, Political]   \n",
       "478  [Bluffing, Card Game, City Building, Deduction...   \n",
       "481  [Abstract Strategy, Medieval, Territory Building]   \n",
       "490        [Fantasy, Mythology, Print & Play, Wargame]   \n",
       "\n",
       "                                              families  num_expansions  \\\n",
       "387                   [Series: Blue Games (Descartes)]               0   \n",
       "475  [Cities: Agra (India), Country: India, Series:...               0   \n",
       "478  [Mechanism: Tableau Building, Series: Fantasy ...               1   \n",
       "481                  [Digital Implementations: Yucata]               0   \n",
       "490                                                 []               0   \n",
       "\n",
       "     num_honors  num_episodes  \\\n",
       "387           0             0   \n",
       "475           5             5   \n",
       "478           7            17   \n",
       "481           1             3   \n",
       "490           1             0   \n",
       "\n",
       "                                              poll_age  \\\n",
       "387  [[2, 0], [3, 0], [4, 0], [5, 0], [6, 0], [8, 0...   \n",
       "475  [[2, 0], [3, 0], [4, 0], [5, 0], [6, 0], [8, 1...   \n",
       "478  [[2, 0], [3, 0], [4, 0], [5, 0], [6, 14], [8, ...   \n",
       "481  [[2, 0], [3, 0], [4, 0], [5, 1], [6, 0], [8, 0...   \n",
       "490  [[2, 0], [3, 0], [4, 0], [5, 0], [6, 1], [8, 4...   \n",
       "\n",
       "                                            poll_numpl  num_rated  \\\n",
       "387  [[1, [0, 0, 4]], [2, [0, 0, 4]], [3, [0, 6, 0]...        337   \n",
       "475  [[1, [0, 0, 84]], [2, [0, 14, 82]], [3, [13, 6...       7149   \n",
       "478  [[1, [1, 4, 612]], [2, [179, 313, 423]], [3, [...      49176   \n",
       "481  [[1, [0, 0, 54]], [2, [35, 54, 7]], [3, [58, 3...       3429   \n",
       "490  [[1, [0, 2, 2]], [2, [8, 3, 0]], [3, [1, 6, 3]...        262   \n",
       "\n",
       "     num_comments   rating  bayes_rating  \n",
       "387           133  5.81844       5.55090  \n",
       "475          2231  7.27751       6.93109  \n",
       "478          9840  7.07999       6.97364  \n",
       "481          1094  6.81879       6.38725  \n",
       "490           201  7.70292       5.65154  "
      ]
     },
     "execution_count": 2,
     "metadata": {},
     "output_type": "execute_result"
    }
   ],
   "source": [
    "df = pd.read_json('bgg_data_clean.json',orient='split')\n",
    "df.head(5)"
   ]
  },
  {
   "cell_type": "code",
   "execution_count": 3,
   "id": "7ce51799",
   "metadata": {},
   "outputs": [],
   "source": [
    "class DictEncoder(BaseEstimator, TransformerMixin):\n",
    "    def fit(self, X, y=None):\n",
    "        return self\n",
    "    def transform(self, X):\n",
    "        for xs in X:\n",
    "            yield { x: 1 for x in xs }"
   ]
  },
  {
   "cell_type": "code",
   "execution_count": 10,
   "id": "c87e43e4",
   "metadata": {},
   "outputs": [
    {
     "data": {
      "text/plain": [
       "array([[0., 0., 0., ..., 0., 0., 0.],\n",
       "       [0., 0., 0., ..., 0., 0., 0.],\n",
       "       [0., 1., 0., ..., 0., 0., 0.],\n",
       "       ...,\n",
       "       [0., 0., 0., ..., 0., 0., 0.],\n",
       "       [0., 0., 0., ..., 0., 0., 0.],\n",
       "       [0., 0., 0., ..., 0., 0., 0.]])"
      ]
     },
     "execution_count": 10,
     "metadata": {},
     "output_type": "execute_result"
    }
   ],
   "source": [
    "binary_encoder = Pipeline([\n",
    "    ('encode',   DictEncoder()),\n",
    "    ('vectorize',DictVectorizer(sparse=False))\n",
    "])\n",
    "X_all = Pipeline([\n",
    "    ('attrs',ColumnTransformer([\n",
    "        ('mechanics',binary_encoder,'mechanics'),\n",
    "        ('categories',binary_encoder,'categories')\n",
    "    ]))\n",
    "]).fit_transform(df)\n",
    "X_all"
   ]
  },
  {
   "cell_type": "code",
   "execution_count": 11,
   "id": "8cee6c3e",
   "metadata": {},
   "outputs": [],
   "source": [
    "class ScaleRatingByYear(BaseEstimator, TransformerMixin):\n",
    "    def fit(self, X, y=None):\n",
    "        self.m = {\n",
    "            key: vals for key,*vals in\n",
    "            X.groupby('year').agg({'rating':['mean','std']}).to_records()\n",
    "        }\n",
    "        return self\n",
    "    def transform(self, X):\n",
    "        def scale(x):\n",
    "            mean, std = self.m[x[0]]\n",
    "            return (x[1]-mean)/std\n",
    "        return X[['year','rating']].apply(scale,axis=1)"
   ]
  },
  {
   "cell_type": "code",
   "execution_count": 12,
   "id": "93d32137",
   "metadata": {},
   "outputs": [],
   "source": [
    "y_all = ScaleRatingByYear().fit_transform(df).to_numpy()"
   ]
  },
  {
   "cell_type": "code",
   "execution_count": 13,
   "id": "bb6dc310",
   "metadata": {},
   "outputs": [],
   "source": [
    "X_train, X_test, y_train, y_test = train_test_split(\n",
    "    X_all, y_all, test_size=0.35, random_state=123)"
   ]
  },
  {
   "cell_type": "code",
   "execution_count": 42,
   "id": "fd6a127e",
   "metadata": {},
   "outputs": [
    {
     "data": {
      "text/plain": [
       "Pipeline(steps=[('PCA', PCA(n_components=10)),\n",
       "                ('DT', DecisionTreeRegressor(max_depth=8))])"
      ]
     },
     "execution_count": 42,
     "metadata": {},
     "output_type": "execute_result"
    }
   ],
   "source": [
    "model = Pipeline([\n",
    "    ('PCA', PCA(n_components=10)),\n",
    "    ('DT' , DecisionTreeRegressor(max_depth=8))\n",
    "])\n",
    "model.fit(X_train,y_train)"
   ]
  },
  {
   "cell_type": "code",
   "execution_count": 43,
   "id": "0153fd4a",
   "metadata": {},
   "outputs": [
    {
     "data": {
      "text/plain": [
       "0.380832692425195"
      ]
     },
     "execution_count": 43,
     "metadata": {},
     "output_type": "execute_result"
    }
   ],
   "source": [
    "model.score(X_test, y_test)"
   ]
  },
  {
   "cell_type": "code",
   "execution_count": 35,
   "id": "441ee72e",
   "metadata": {},
   "outputs": [],
   "source": [
    "X_pca = PCA(n_components=10).fit_transform(X_train)"
   ]
  },
  {
   "cell_type": "code",
   "execution_count": 39,
   "id": "7dd23b3d",
   "metadata": {},
   "outputs": [],
   "source": [
    "train_errors = []\n",
    "test_errors = []\n",
    "for d in range(1,20):\n",
    "    dt = DecisionTreeRegressor(max_depth=d).fit(X_train, y_train)\n",
    "    train_errors.append(metrics.mean_squared_error(y_train, dt.predict(X_train)))\n",
    "    test_errors.append(metrics.mean_squared_error(y_test, dt.predict(X_test)))"
   ]
  },
  {
   "cell_type": "code",
   "execution_count": 44,
   "id": "cca17aaa",
   "metadata": {},
   "outputs": [
    {
     "data": {
      "text/plain": [
       "<matplotlib.legend.Legend at 0x7f1a83e60670>"
      ]
     },
     "execution_count": 44,
     "metadata": {},
     "output_type": "execute_result"
    },
    {
     "data": {
      "image/png": "[encoded data removed]",
      "text/plain": [
       "<Figure size 432x288 with 1 Axes>"
      ]
     },
     "metadata": {
      "needs_background": "light"
     },
     "output_type": "display_data"
    }
   ],
   "source": [
    "plt.plot(range(1,20), train_errors, 'k-', label='Training error')\n",
    "plt.plot(range(1,20), test_errors, 'b-', label='Testing error')\n",
    "plt.xlabel('Tree_depth')\n",
    "plt.ylabel('MSE')\n",
    "plt.legend(loc='upper right')"
   ]
  },
  {
   "cell_type": "code",
   "execution_count": null,
   "id": "4fe0d1d6",
   "metadata": {},
   "outputs": [],
   "source": []
  }
 ],
 "metadata": {
  "kernelspec": {
   "display_name": "Python 3 (ipykernel)",
   "language": "python",
   "name": "python3"
  },
  "language_info": {
   "codemirror_mode": {
    "name": "ipython",
    "version": 3
   },
   "file_extension": ".py",
   "mimetype": "text/x-python",
   "name": "python",
   "nbconvert_exporter": "python",
   "pygments_lexer": "ipython3",
   "version": "3.9.7"
  }
 },
 "nbformat": 4,
 "nbformat_minor": 5
}
