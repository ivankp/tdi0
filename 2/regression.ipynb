{
 "cells": [
  {
   "cell_type": "code",
   "execution_count": 122,
   "id": "4d07441c",
   "metadata": {},
   "outputs": [],
   "source": [
    "import pandas as pd\n",
    "import numpy as np\n",
    "\n",
    "import sklearn\n",
    "from sklearn.base import BaseEstimator, TransformerMixin, RegressorMixin\n",
    "from sklearn.compose import ColumnTransformer\n",
    "from sklearn.feature_extraction import DictVectorizer\n",
    "from sklearn.preprocessing import FunctionTransformer, PolynomialFeatures\n",
    "from sklearn.pipeline import Pipeline\n",
    "from sklearn.linear_model import LinearRegression, Ridge\n",
    "from sklearn.model_selection import train_test_split\n",
    "\n",
    "import matplotlib.pyplot as plt"
   ]
  },
  {
   "cell_type": "code",
   "execution_count": 4,
   "id": "dd798bce",
   "metadata": {},
   "outputs": [
    {
     "data": {
      "text/html": [
       "<div>\n",
       "<style scoped>\n",
       "    .dataframe tbody tr th:only-of-type {\n",
       "        vertical-align: middle;\n",
       "    }\n",
       "\n",
       "    .dataframe tbody tr th {\n",
       "        vertical-align: top;\n",
       "    }\n",
       "\n",
       "    .dataframe thead th {\n",
       "        text-align: right;\n",
       "    }\n",
       "</style>\n",
       "<table border=\"1\" class=\"dataframe\">\n",
       "  <thead>\n",
       "    <tr style=\"text-align: right;\">\n",
       "      <th></th>\n",
       "      <th>year</th>\n",
       "      <th>age</th>\n",
       "      <th>num_players</th>\n",
       "      <th>duration</th>\n",
       "      <th>mechanics</th>\n",
       "      <th>categories</th>\n",
       "      <th>families</th>\n",
       "      <th>num_expansions</th>\n",
       "      <th>num_honors</th>\n",
       "      <th>num_episodes</th>\n",
       "      <th>poll_age</th>\n",
       "      <th>poll_numpl</th>\n",
       "      <th>num_rated</th>\n",
       "      <th>num_comments</th>\n",
       "      <th>rating</th>\n",
       "      <th>bayes_rating</th>\n",
       "    </tr>\n",
       "  </thead>\n",
       "  <tbody>\n",
       "    <tr>\n",
       "      <th>387</th>\n",
       "      <td>2000</td>\n",
       "      <td>10</td>\n",
       "      <td>[3, 7]</td>\n",
       "      <td>[45.0, 45.0, 45.0]</td>\n",
       "      <td>[Hand Management]</td>\n",
       "      <td>[Bluffing, Card Game]</td>\n",
       "      <td>[Series: Blue Games (Descartes)]</td>\n",
       "      <td>0</td>\n",
       "      <td>0</td>\n",
       "      <td>0</td>\n",
       "      <td>[[2, 0], [3, 0], [4, 0], [5, 0], [6, 0], [8, 0...</td>\n",
       "      <td>[[1, [0, 0, 4]], [2, [0, 0, 4]], [3, [0, 6, 0]...</td>\n",
       "      <td>337</td>\n",
       "      <td>133</td>\n",
       "      <td>5.81844</td>\n",
       "      <td>5.55090</td>\n",
       "    </tr>\n",
       "    <tr>\n",
       "      <th>475</th>\n",
       "      <td>2000</td>\n",
       "      <td>12</td>\n",
       "      <td>[2, 5]</td>\n",
       "      <td>[90.0, 45.0, 90.0]</td>\n",
       "      <td>[Auction, Card Drafting, Hand Management, Netw...</td>\n",
       "      <td>[Bluffing, Political]</td>\n",
       "      <td>[Cities: Agra (India), Country: India, Series:...</td>\n",
       "      <td>0</td>\n",
       "      <td>5</td>\n",
       "      <td>5</td>\n",
       "      <td>[[2, 0], [3, 0], [4, 0], [5, 0], [6, 0], [8, 1...</td>\n",
       "      <td>[[1, [0, 0, 84]], [2, [0, 14, 82]], [3, [13, 6...</td>\n",
       "      <td>7149</td>\n",
       "      <td>2231</td>\n",
       "      <td>7.27751</td>\n",
       "      <td>6.93109</td>\n",
       "    </tr>\n",
       "    <tr>\n",
       "      <th>478</th>\n",
       "      <td>2000</td>\n",
       "      <td>10</td>\n",
       "      <td>[2, 8]</td>\n",
       "      <td>[60.0, 20.0, 60.0]</td>\n",
       "      <td>[Action Drafting, Card Drafting, Drafting, Los...</td>\n",
       "      <td>[Bluffing, Card Game, City Building, Deduction...</td>\n",
       "      <td>[Mechanism: Tableau Building, Series: Fantasy ...</td>\n",
       "      <td>1</td>\n",
       "      <td>7</td>\n",
       "      <td>17</td>\n",
       "      <td>[[2, 0], [3, 0], [4, 0], [5, 0], [6, 14], [8, ...</td>\n",
       "      <td>[[1, [1, 4, 612]], [2, [179, 313, 423]], [3, [...</td>\n",
       "      <td>49176</td>\n",
       "      <td>9840</td>\n",
       "      <td>7.07999</td>\n",
       "      <td>6.97364</td>\n",
       "    </tr>\n",
       "    <tr>\n",
       "      <th>481</th>\n",
       "      <td>2000</td>\n",
       "      <td>12</td>\n",
       "      <td>[2, 4]</td>\n",
       "      <td>[60.0, 60.0, 60.0]</td>\n",
       "      <td>[Area Majority / Influence, Dice Rolling, Hand...</td>\n",
       "      <td>[Abstract Strategy, Medieval, Territory Building]</td>\n",
       "      <td>[Digital Implementations: Yucata]</td>\n",
       "      <td>0</td>\n",
       "      <td>1</td>\n",
       "      <td>3</td>\n",
       "      <td>[[2, 0], [3, 0], [4, 0], [5, 1], [6, 0], [8, 0...</td>\n",
       "      <td>[[1, [0, 0, 54]], [2, [35, 54, 7]], [3, [58, 3...</td>\n",
       "      <td>3429</td>\n",
       "      <td>1094</td>\n",
       "      <td>6.81879</td>\n",
       "      <td>6.38725</td>\n",
       "    </tr>\n",
       "    <tr>\n",
       "      <th>490</th>\n",
       "      <td>2000</td>\n",
       "      <td>12</td>\n",
       "      <td>[2, 6]</td>\n",
       "      <td>[60.0, 60.0, 60.0]</td>\n",
       "      <td>[Dice Rolling, Hexagon Grid]</td>\n",
       "      <td>[Fantasy, Mythology, Print &amp; Play, Wargame]</td>\n",
       "      <td>[]</td>\n",
       "      <td>0</td>\n",
       "      <td>1</td>\n",
       "      <td>0</td>\n",
       "      <td>[[2, 0], [3, 0], [4, 0], [5, 0], [6, 1], [8, 4...</td>\n",
       "      <td>[[1, [0, 2, 2]], [2, [8, 3, 0]], [3, [1, 6, 3]...</td>\n",
       "      <td>262</td>\n",
       "      <td>201</td>\n",
       "      <td>7.70292</td>\n",
       "      <td>5.65154</td>\n",
       "    </tr>\n",
       "    <tr>\n",
       "      <th>491</th>\n",
       "      <td>2000</td>\n",
       "      <td>12</td>\n",
       "      <td>[3, 5]</td>\n",
       "      <td>[60.0, 50.0, 60.0]</td>\n",
       "      <td>[Area Majority / Influence, Card Drafting, Han...</td>\n",
       "      <td>[Medieval, Territory Building]</td>\n",
       "      <td>[Series: Web of Power / China]</td>\n",
       "      <td>8</td>\n",
       "      <td>3</td>\n",
       "      <td>4</td>\n",
       "      <td>[[2, 0], [3, 0], [4, 0], [5, 0], [6, 0], [8, 2...</td>\n",
       "      <td>[[1, [0, 0, 44]], [2, [0, 3, 45]], [3, [65, 17...</td>\n",
       "      <td>3369</td>\n",
       "      <td>1095</td>\n",
       "      <td>7.29773</td>\n",
       "      <td>6.68319</td>\n",
       "    </tr>\n",
       "    <tr>\n",
       "      <th>492</th>\n",
       "      <td>2000</td>\n",
       "      <td>10</td>\n",
       "      <td>[3, 5]</td>\n",
       "      <td>[90.0, 60.0, 90.0]</td>\n",
       "      <td>[Auction, Set Collection, Worker Placement]</td>\n",
       "      <td>[Arabian, Bluffing, Fantasy, Medieval]</td>\n",
       "      <td>[Creatures: Dragons, Folk Tales &amp; Fairy Tales:...</td>\n",
       "      <td>0</td>\n",
       "      <td>3</td>\n",
       "      <td>2</td>\n",
       "      <td>[[2, 0], [3, 0], [4, 0], [5, 0], [6, 0], [8, 2...</td>\n",
       "      <td>[[1, [0, 0, 23]], [2, [1, 1, 24]], [3, [4, 19,...</td>\n",
       "      <td>3111</td>\n",
       "      <td>1162</td>\n",
       "      <td>6.90465</td>\n",
       "      <td>6.41011</td>\n",
       "    </tr>\n",
       "    <tr>\n",
       "      <th>495</th>\n",
       "      <td>2000</td>\n",
       "      <td>10</td>\n",
       "      <td>[3, 6]</td>\n",
       "      <td>[60.0, 60.0, 60.0]</td>\n",
       "      <td>[Set Collection]</td>\n",
       "      <td>[Pirates]</td>\n",
       "      <td>[Theme: Time Travel]</td>\n",
       "      <td>0</td>\n",
       "      <td>0</td>\n",
       "      <td>0</td>\n",
       "      <td>[[2, 0], [3, 0], [4, 0], [5, 0], [6, 0], [8, 0...</td>\n",
       "      <td>[[1, [0, 0, 1]], [2, [0, 1, 0]], [3, [2, 2, 1]...</td>\n",
       "      <td>253</td>\n",
       "      <td>104</td>\n",
       "      <td>5.56482</td>\n",
       "      <td>5.50884</td>\n",
       "    </tr>\n",
       "    <tr>\n",
       "      <th>497</th>\n",
       "      <td>2000</td>\n",
       "      <td>10</td>\n",
       "      <td>[3, 5]</td>\n",
       "      <td>[30.0, 30.0, 30.0]</td>\n",
       "      <td>[Hand Management, Set Collection]</td>\n",
       "      <td>[Card Game]</td>\n",
       "      <td>[Creatures: Vampires, Series: à la Carte (Gold...</td>\n",
       "      <td>0</td>\n",
       "      <td>0</td>\n",
       "      <td>0</td>\n",
       "      <td>[[2, 0], [3, 0], [4, 0], [5, 1], [6, 6], [8, 1...</td>\n",
       "      <td>[[1, [0, 0, 4]], [2, [0, 1, 3]], [3, [3, 6, 1]...</td>\n",
       "      <td>606</td>\n",
       "      <td>219</td>\n",
       "      <td>5.92659</td>\n",
       "      <td>5.61051</td>\n",
       "    </tr>\n",
       "    <tr>\n",
       "      <th>509</th>\n",
       "      <td>2000</td>\n",
       "      <td>10</td>\n",
       "      <td>[2, 2]</td>\n",
       "      <td>[60.0, 60.0, 60.0]</td>\n",
       "      <td>[Dice Rolling, Set Collection]</td>\n",
       "      <td>[Card Game]</td>\n",
       "      <td>[Animals: Fish / Fishes, Players: Two Player O...</td>\n",
       "      <td>0</td>\n",
       "      <td>0</td>\n",
       "      <td>1</td>\n",
       "      <td>[[2, 0], [3, 0], [4, 0], [5, 0], [6, 1], [8, 4...</td>\n",
       "      <td>[[1, [0, 0, 5]], [2, [4, 1, 0]], [2, [0, 0, 5]]]</td>\n",
       "      <td>750</td>\n",
       "      <td>302</td>\n",
       "      <td>5.69661</td>\n",
       "      <td>5.55657</td>\n",
       "    </tr>\n",
       "  </tbody>\n",
       "</table>\n",
       "</div>"
      ],
      "text/plain": [
       "     year  age num_players            duration  \\\n",
       "387  2000   10      [3, 7]  [45.0, 45.0, 45.0]   \n",
       "475  2000   12      [2, 5]  [90.0, 45.0, 90.0]   \n",
       "478  2000   10      [2, 8]  [60.0, 20.0, 60.0]   \n",
       "481  2000   12      [2, 4]  [60.0, 60.0, 60.0]   \n",
       "490  2000   12      [2, 6]  [60.0, 60.0, 60.0]   \n",
       "491  2000   12      [3, 5]  [60.0, 50.0, 60.0]   \n",
       "492  2000   10      [3, 5]  [90.0, 60.0, 90.0]   \n",
       "495  2000   10      [3, 6]  [60.0, 60.0, 60.0]   \n",
       "497  2000   10      [3, 5]  [30.0, 30.0, 30.0]   \n",
       "509  2000   10      [2, 2]  [60.0, 60.0, 60.0]   \n",
       "\n",
       "                                             mechanics  \\\n",
       "387                                  [Hand Management]   \n",
       "475  [Auction, Card Drafting, Hand Management, Netw...   \n",
       "478  [Action Drafting, Card Drafting, Drafting, Los...   \n",
       "481  [Area Majority / Influence, Dice Rolling, Hand...   \n",
       "490                       [Dice Rolling, Hexagon Grid]   \n",
       "491  [Area Majority / Influence, Card Drafting, Han...   \n",
       "492        [Auction, Set Collection, Worker Placement]   \n",
       "495                                   [Set Collection]   \n",
       "497                  [Hand Management, Set Collection]   \n",
       "509                     [Dice Rolling, Set Collection]   \n",
       "\n",
       "                                            categories  \\\n",
       "387                              [Bluffing, Card Game]   \n",
       "475                              [Bluffing, Political]   \n",
       "478  [Bluffing, Card Game, City Building, Deduction...   \n",
       "481  [Abstract Strategy, Medieval, Territory Building]   \n",
       "490        [Fantasy, Mythology, Print & Play, Wargame]   \n",
       "491                     [Medieval, Territory Building]   \n",
       "492             [Arabian, Bluffing, Fantasy, Medieval]   \n",
       "495                                          [Pirates]   \n",
       "497                                        [Card Game]   \n",
       "509                                        [Card Game]   \n",
       "\n",
       "                                              families  num_expansions  \\\n",
       "387                   [Series: Blue Games (Descartes)]               0   \n",
       "475  [Cities: Agra (India), Country: India, Series:...               0   \n",
       "478  [Mechanism: Tableau Building, Series: Fantasy ...               1   \n",
       "481                  [Digital Implementations: Yucata]               0   \n",
       "490                                                 []               0   \n",
       "491                     [Series: Web of Power / China]               8   \n",
       "492  [Creatures: Dragons, Folk Tales & Fairy Tales:...               0   \n",
       "495                               [Theme: Time Travel]               0   \n",
       "497  [Creatures: Vampires, Series: à la Carte (Gold...               0   \n",
       "509  [Animals: Fish / Fishes, Players: Two Player O...               0   \n",
       "\n",
       "     num_honors  num_episodes  \\\n",
       "387           0             0   \n",
       "475           5             5   \n",
       "478           7            17   \n",
       "481           1             3   \n",
       "490           1             0   \n",
       "491           3             4   \n",
       "492           3             2   \n",
       "495           0             0   \n",
       "497           0             0   \n",
       "509           0             1   \n",
       "\n",
       "                                              poll_age  \\\n",
       "387  [[2, 0], [3, 0], [4, 0], [5, 0], [6, 0], [8, 0...   \n",
       "475  [[2, 0], [3, 0], [4, 0], [5, 0], [6, 0], [8, 1...   \n",
       "478  [[2, 0], [3, 0], [4, 0], [5, 0], [6, 14], [8, ...   \n",
       "481  [[2, 0], [3, 0], [4, 0], [5, 1], [6, 0], [8, 0...   \n",
       "490  [[2, 0], [3, 0], [4, 0], [5, 0], [6, 1], [8, 4...   \n",
       "491  [[2, 0], [3, 0], [4, 0], [5, 0], [6, 0], [8, 2...   \n",
       "492  [[2, 0], [3, 0], [4, 0], [5, 0], [6, 0], [8, 2...   \n",
       "495  [[2, 0], [3, 0], [4, 0], [5, 0], [6, 0], [8, 0...   \n",
       "497  [[2, 0], [3, 0], [4, 0], [5, 1], [6, 6], [8, 1...   \n",
       "509  [[2, 0], [3, 0], [4, 0], [5, 0], [6, 1], [8, 4...   \n",
       "\n",
       "                                            poll_numpl  num_rated  \\\n",
       "387  [[1, [0, 0, 4]], [2, [0, 0, 4]], [3, [0, 6, 0]...        337   \n",
       "475  [[1, [0, 0, 84]], [2, [0, 14, 82]], [3, [13, 6...       7149   \n",
       "478  [[1, [1, 4, 612]], [2, [179, 313, 423]], [3, [...      49176   \n",
       "481  [[1, [0, 0, 54]], [2, [35, 54, 7]], [3, [58, 3...       3429   \n",
       "490  [[1, [0, 2, 2]], [2, [8, 3, 0]], [3, [1, 6, 3]...        262   \n",
       "491  [[1, [0, 0, 44]], [2, [0, 3, 45]], [3, [65, 17...       3369   \n",
       "492  [[1, [0, 0, 23]], [2, [1, 1, 24]], [3, [4, 19,...       3111   \n",
       "495  [[1, [0, 0, 1]], [2, [0, 1, 0]], [3, [2, 2, 1]...        253   \n",
       "497  [[1, [0, 0, 4]], [2, [0, 1, 3]], [3, [3, 6, 1]...        606   \n",
       "509   [[1, [0, 0, 5]], [2, [4, 1, 0]], [2, [0, 0, 5]]]        750   \n",
       "\n",
       "     num_comments   rating  bayes_rating  \n",
       "387           133  5.81844       5.55090  \n",
       "475          2231  7.27751       6.93109  \n",
       "478          9840  7.07999       6.97364  \n",
       "481          1094  6.81879       6.38725  \n",
       "490           201  7.70292       5.65154  \n",
       "491          1095  7.29773       6.68319  \n",
       "492          1162  6.90465       6.41011  \n",
       "495           104  5.56482       5.50884  \n",
       "497           219  5.92659       5.61051  \n",
       "509           302  5.69661       5.55657  "
      ]
     },
     "execution_count": 4,
     "metadata": {},
     "output_type": "execute_result"
    }
   ],
   "source": [
    "df = pd.read_json('bgg_data_clean.json',orient='split')\n",
    "df.head(10)"
   ]
  },
  {
   "cell_type": "code",
   "execution_count": 27,
   "id": "997a4049",
   "metadata": {},
   "outputs": [
    {
     "name": "stdout",
     "output_type": "stream",
     "text": [
      "172\n"
     ]
    }
   ],
   "source": [
    "all_mechanics = { x for xs in df['mechanics'] for x in xs }\n",
    "print(len(all_mechanics))"
   ]
  },
  {
   "cell_type": "code",
   "execution_count": 10,
   "id": "aced957b",
   "metadata": {},
   "outputs": [
    {
     "name": "stdout",
     "output_type": "stream",
     "text": [
      "84\n"
     ]
    }
   ],
   "source": [
    "all_categories = { x for xs in df['categories'] for x in xs }\n",
    "print(len(all_categories))"
   ]
  },
  {
   "cell_type": "code",
   "execution_count": 15,
   "id": "7ce51799",
   "metadata": {},
   "outputs": [],
   "source": [
    "class DictEncoder(BaseEstimator, TransformerMixin):\n",
    "    def fit(self, X, y=None):\n",
    "        return self\n",
    "    def transform(self, X):\n",
    "        for xs in X:\n",
    "            yield { x: 1 for x in xs }"
   ]
  },
  {
   "cell_type": "code",
   "execution_count": 149,
   "id": "c87e43e4",
   "metadata": {},
   "outputs": [
    {
     "data": {
      "text/plain": [
       "<23530x256 sparse matrix of type '<class 'numpy.float64'>'\n",
       "\twith 143670 stored elements in Compressed Sparse Row format>"
      ]
     },
     "execution_count": 149,
     "metadata": {},
     "output_type": "execute_result"
    }
   ],
   "source": [
    "binary_encoder = Pipeline([\n",
    "    ('encode',   DictEncoder()),\n",
    "    ('vectorize',DictVectorizer())\n",
    "])\n",
    "X_all = Pipeline([\n",
    "    ('attrs',ColumnTransformer([\n",
    "        ('mechanics',binary_encoder,'mechanics'),\n",
    "        ('categories',binary_encoder,'categories')\n",
    "    ]))\n",
    "]).fit_transform(df)\n",
    "X_all"
   ]
  },
  {
   "cell_type": "code",
   "execution_count": 41,
   "id": "93d32137",
   "metadata": {},
   "outputs": [],
   "source": [
    "y_all = df['rating'].to_numpy()"
   ]
  },
  {
   "cell_type": "code",
   "execution_count": 44,
   "id": "bb6dc310",
   "metadata": {},
   "outputs": [],
   "source": [
    "X_train, X_test, y_train, y_test = train_test_split(\n",
    "    X_all, y_all, test_size=0.35, random_state=123)"
   ]
  },
  {
   "cell_type": "code",
   "execution_count": 46,
   "id": "fd6a127e",
   "metadata": {},
   "outputs": [
    {
     "data": {
      "text/plain": [
       "Pipeline(steps=[('ridge', Ridge(alpha=10))])"
      ]
     },
     "execution_count": 46,
     "metadata": {},
     "output_type": "execute_result"
    }
   ],
   "source": [
    "model = Pipeline([\n",
    "    ('ridge',Ridge(alpha=10))\n",
    "])\n",
    "model.fit(X_train,y_train)"
   ]
  },
  {
   "cell_type": "code",
   "execution_count": 47,
   "id": "96204ce0",
   "metadata": {},
   "outputs": [
    {
     "data": {
      "text/plain": [
       "0.4566269148906632"
      ]
     },
     "execution_count": 47,
     "metadata": {},
     "output_type": "execute_result"
    }
   ],
   "source": [
    "model.score(X_test, y_test)"
   ]
  },
  {
   "cell_type": "code",
   "execution_count": 140,
   "id": "f72b896a",
   "metadata": {},
   "outputs": [
    {
     "data": {
      "text/plain": [
       "[<matplotlib.lines.Line2D at 0x7fc0c4a740a0>]"
      ]
     },
     "execution_count": 140,
     "metadata": {},
     "output_type": "execute_result"
    },
    {
     "data": {
      "image/png": "[encoded data removed]",
      "text/plain": [
       "<Figure size 432x288 with 1 Axes>"
      ]
     },
     "metadata": {
      "needs_background": "light"
     },
     "output_type": "display_data"
    }
   ],
   "source": [
    "year_rating = df[['year','rating']].groupby('year').mean()\n",
    "year_rating.plot()\n",
    "year_rating_model = Pipeline([\n",
    "    ('poly',PolynomialFeatures(3)),\n",
    "    ('linear',LinearRegression())\n",
    "]).fit(\n",
    "    year_rating.index .to_numpy().reshape(-1,1),\n",
    "    year_rating.rating.to_numpy()\n",
    ")\n",
    "xs = np.linspace(2000,2021,100)\n",
    "plt.plot(xs,year_rating_model.predict(xs.reshape(-1,1)))"
   ]
  },
  {
   "cell_type": "code",
   "execution_count": 146,
   "id": "5ab1a4f0",
   "metadata": {},
   "outputs": [
    {
     "data": {
      "text/plain": [
       "0.43260244971123074"
      ]
     },
     "execution_count": 146,
     "metadata": {},
     "output_type": "execute_result"
    }
   ],
   "source": [
    "y_all = df['rating'].to_numpy() / year_rating_model.predict( df['year'].to_numpy().reshape(-1,1) )\n",
    "\n",
    "X_train, X_test, y_train, y_test = train_test_split(\n",
    "    X_all, y_all, test_size=0.35, random_state=123)\n",
    "\n",
    "model = Pipeline([\n",
    "    ('ridge',Ridge(alpha=10))\n",
    "])\n",
    "model.fit(X_train,y_train)\n",
    "\n",
    "model.score(X_test, y_test)"
   ]
  },
  {
   "cell_type": "code",
   "execution_count": null,
   "id": "83845d65",
   "metadata": {},
   "outputs": [],
   "source": []
  }
 ],
 "metadata": {
  "kernelspec": {
   "display_name": "Python 3 (ipykernel)",
   "language": "python",
   "name": "python3"
  },
  "language_info": {
   "codemirror_mode": {
    "name": "ipython",
    "version": 3
   },
   "file_extension": ".py",
   "mimetype": "text/x-python",
   "name": "python",
   "nbconvert_exporter": "python",
   "pygments_lexer": "ipython3",
   "version": "3.9.7"
  }
 },
 "nbformat": 4,
 "nbformat_minor": 5
}
