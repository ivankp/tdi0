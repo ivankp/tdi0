{
 "cells": [
  {
   "cell_type": "code",
   "execution_count": 1,
   "id": "4d07441c",
   "metadata": {},
   "outputs": [],
   "source": [
    "import pandas as pd\n",
    "import numpy as np\n",
    "\n",
    "import sklearn\n",
    "from sklearn.base import BaseEstimator, TransformerMixin\n",
    "from sklearn.compose import ColumnTransformer\n",
    "from sklearn.preprocessing import FunctionTransformer\n",
    "from sklearn.pipeline import Pipeline\n",
    "from sklearn.model_selection import train_test_split\n",
    "from sklearn.decomposition import PCA\n",
    "from sklearn.ensemble import RandomForestRegressor\n",
    "\n",
    "import matplotlib.pyplot as plt\n",
    "import seaborn as sns\n",
    "\n",
    "import dill, lzma"
   ]
  },
  {
   "cell_type": "code",
   "execution_count": 2,
   "id": "dd798bce",
   "metadata": {},
   "outputs": [
    {
     "name": "stdout",
     "output_type": "stream",
     "text": [
      "23530\n"
     ]
    },
    {
     "data": {
      "text/html": [
       "<div>\n",
       "<style scoped>\n",
       "    .dataframe tbody tr th:only-of-type {\n",
       "        vertical-align: middle;\n",
       "    }\n",
       "\n",
       "    .dataframe tbody tr th {\n",
       "        vertical-align: top;\n",
       "    }\n",
       "\n",
       "    .dataframe thead th {\n",
       "        text-align: right;\n",
       "    }\n",
       "</style>\n",
       "<table border=\"1\" class=\"dataframe\">\n",
       "  <thead>\n",
       "    <tr style=\"text-align: right;\">\n",
       "      <th></th>\n",
       "      <th>year</th>\n",
       "      <th>age</th>\n",
       "      <th>poll_age</th>\n",
       "      <th>num_rated</th>\n",
       "      <th>rating</th>\n",
       "      <th>bayes_rating</th>\n",
       "      <th>owned</th>\n",
       "      <th>attrs</th>\n",
       "      <th>npl_min</th>\n",
       "      <th>npl_max</th>\n",
       "      <th>poll_npl_min</th>\n",
       "      <th>poll_npl_max</th>\n",
       "      <th>dur_min</th>\n",
       "      <th>dur_max</th>\n",
       "    </tr>\n",
       "  </thead>\n",
       "  <tbody>\n",
       "    <tr>\n",
       "      <th>387</th>\n",
       "      <td>2000</td>\n",
       "      <td>10</td>\n",
       "      <td>10.500000</td>\n",
       "      <td>337</td>\n",
       "      <td>5.81844</td>\n",
       "      <td>5.55090</td>\n",
       "      <td>697</td>\n",
       "      <td>[Card Game, Hand Management, Series, Bluffing]</td>\n",
       "      <td>3</td>\n",
       "      <td>7</td>\n",
       "      <td>3</td>\n",
       "      <td>7</td>\n",
       "      <td>3.806662</td>\n",
       "      <td>3.806662</td>\n",
       "    </tr>\n",
       "    <tr>\n",
       "      <th>475</th>\n",
       "      <td>2000</td>\n",
       "      <td>12</td>\n",
       "      <td>11.454545</td>\n",
       "      <td>7149</td>\n",
       "      <td>7.27751</td>\n",
       "      <td>6.93109</td>\n",
       "      <td>8569</td>\n",
       "      <td>[Series, Bluffing, Auction, Drafting, Card Dra...</td>\n",
       "      <td>2</td>\n",
       "      <td>5</td>\n",
       "      <td>3</td>\n",
       "      <td>5</td>\n",
       "      <td>3.806662</td>\n",
       "      <td>4.499810</td>\n",
       "    </tr>\n",
       "    <tr>\n",
       "      <th>478</th>\n",
       "      <td>2000</td>\n",
       "      <td>10</td>\n",
       "      <td>9.898396</td>\n",
       "      <td>49176</td>\n",
       "      <td>7.07999</td>\n",
       "      <td>6.97364</td>\n",
       "      <td>65605</td>\n",
       "      <td>[Tableau Building, Series, Bluffing, Drafting,...</td>\n",
       "      <td>2</td>\n",
       "      <td>8</td>\n",
       "      <td>2</td>\n",
       "      <td>7</td>\n",
       "      <td>2.995732</td>\n",
       "      <td>4.094345</td>\n",
       "    </tr>\n",
       "    <tr>\n",
       "      <th>481</th>\n",
       "      <td>2000</td>\n",
       "      <td>12</td>\n",
       "      <td>10.785714</td>\n",
       "      <td>3429</td>\n",
       "      <td>6.81879</td>\n",
       "      <td>6.38725</td>\n",
       "      <td>3909</td>\n",
       "      <td>[Team-Based Game, Area Majority / Influence, D...</td>\n",
       "      <td>2</td>\n",
       "      <td>4</td>\n",
       "      <td>2</td>\n",
       "      <td>4</td>\n",
       "      <td>4.094345</td>\n",
       "      <td>4.094345</td>\n",
       "    </tr>\n",
       "    <tr>\n",
       "      <th>490</th>\n",
       "      <td>2000</td>\n",
       "      <td>12</td>\n",
       "      <td>10.200000</td>\n",
       "      <td>262</td>\n",
       "      <td>7.70292</td>\n",
       "      <td>5.65154</td>\n",
       "      <td>340</td>\n",
       "      <td>[Print &amp; Play, Wargame, Dice, Hexagon Grid, My...</td>\n",
       "      <td>2</td>\n",
       "      <td>6</td>\n",
       "      <td>2</td>\n",
       "      <td>6</td>\n",
       "      <td>4.094345</td>\n",
       "      <td>4.094345</td>\n",
       "    </tr>\n",
       "  </tbody>\n",
       "</table>\n",
       "</div>"
      ],
      "text/plain": [
       "     year  age   poll_age  num_rated   rating  bayes_rating  owned  \\\n",
       "387  2000   10  10.500000        337  5.81844       5.55090    697   \n",
       "475  2000   12  11.454545       7149  7.27751       6.93109   8569   \n",
       "478  2000   10   9.898396      49176  7.07999       6.97364  65605   \n",
       "481  2000   12  10.785714       3429  6.81879       6.38725   3909   \n",
       "490  2000   12  10.200000        262  7.70292       5.65154    340   \n",
       "\n",
       "                                                 attrs  npl_min  npl_max  \\\n",
       "387     [Card Game, Hand Management, Series, Bluffing]        3        7   \n",
       "475  [Series, Bluffing, Auction, Drafting, Card Dra...        2        5   \n",
       "478  [Tableau Building, Series, Bluffing, Drafting,...        2        8   \n",
       "481  [Team-Based Game, Area Majority / Influence, D...        2        4   \n",
       "490  [Print & Play, Wargame, Dice, Hexagon Grid, My...        2        6   \n",
       "\n",
       "     poll_npl_min  poll_npl_max   dur_min   dur_max  \n",
       "387             3             7  3.806662  3.806662  \n",
       "475             3             5  3.806662  4.499810  \n",
       "478             2             7  2.995732  4.094345  \n",
       "481             2             4  4.094345  4.094345  \n",
       "490             2             6  4.094345  4.094345  "
      ]
     },
     "execution_count": 2,
     "metadata": {},
     "output_type": "execute_result"
    }
   ],
   "source": [
    "df = pd.read_pickle(\"df.pkl\")\n",
    "print(len(df))\n",
    "df.head(5)"
   ]
  },
  {
   "cell_type": "code",
   "execution_count": 3,
   "id": "ffefa11c",
   "metadata": {},
   "outputs": [
    {
     "data": {
      "text/plain": [
       "407"
      ]
     },
     "execution_count": 3,
     "metadata": {},
     "output_type": "execute_result"
    }
   ],
   "source": [
    "all_attrs = sorted(set(df['attrs'].sum()))\n",
    "len(all_attrs)"
   ]
  },
  {
   "cell_type": "code",
   "execution_count": 4,
   "id": "e45f64b7",
   "metadata": {},
   "outputs": [
    {
     "data": {
      "text/plain": [
       "['3-Dimensional (3D)', '4X', 'Abstract Strategy', 'Acting', 'Action Drafting']"
      ]
     },
     "execution_count": 4,
     "metadata": {},
     "output_type": "execute_result"
    }
   ],
   "source": [
    "all_attrs[:5]"
   ]
  },
  {
   "cell_type": "code",
   "execution_count": 5,
   "id": "6d60a963",
   "metadata": {},
   "outputs": [],
   "source": [
    "class RatingNormalizer(BaseEstimator, TransformerMixin):\n",
    "    def fit(self, X, y=None):\n",
    "        self.m = {\n",
    "            key: vals for key,*vals in\n",
    "            X.groupby('year').agg({'rating':['mean','std']}).to_records()\n",
    "        }\n",
    "        return self\n",
    "    def transform(self, X):\n",
    "        def scale(x):\n",
    "            mean, std = self.m[x[0]]\n",
    "            return (x[1]-mean)/std\n",
    "        return X[['year','rating']].apply(scale,axis=1)"
   ]
  },
  {
   "cell_type": "code",
   "execution_count": 6,
   "id": "c87e43e4",
   "metadata": {},
   "outputs": [],
   "source": [
    "attrs_encoder = ColumnTransformer([\n",
    "    ('attrs',FunctionTransformer(lambda col:\n",
    "        np.array([\n",
    "            [ 1 if a in attrs else 0 for a in all_attrs ]\n",
    "            for attrs in col\n",
    "        ], dtype=bool)\n",
    "    ),'attrs')\n",
    "])"
   ]
  },
  {
   "cell_type": "code",
   "execution_count": 7,
   "id": "364a4cf9",
   "metadata": {},
   "outputs": [],
   "source": [
    "encoded_attrs = attrs_encoder.fit_transform(df)"
   ]
  },
  {
   "cell_type": "code",
   "execution_count": 8,
   "id": "93d32137",
   "metadata": {},
   "outputs": [],
   "source": [
    "y_all = RatingNormalizer().fit_transform(df).to_numpy()"
   ]
  },
  {
   "cell_type": "code",
   "execution_count": 9,
   "id": "d76e8981",
   "metadata": {},
   "outputs": [
    {
     "data": {
      "text/plain": [
       "PCA(n_components=64)"
      ]
     },
     "execution_count": 9,
     "metadata": {},
     "output_type": "execute_result"
    }
   ],
   "source": [
    "pca = PCA(n_components=64)\n",
    "pca.fit(encoded_attrs)"
   ]
  },
  {
   "cell_type": "code",
   "execution_count": 10,
   "id": "441ee72e",
   "metadata": {},
   "outputs": [],
   "source": [
    "X_pca = pca.transform(encoded_attrs)"
   ]
  },
  {
   "cell_type": "code",
   "execution_count": 11,
   "id": "2ac3a125",
   "metadata": {
    "scrolled": true
   },
   "outputs": [
    {
     "data": {
      "text/plain": [
       "array([['1', 'a'],\n",
       "       ['2', 'b']], dtype='<U21')"
      ]
     },
     "execution_count": 11,
     "metadata": {},
     "output_type": "execute_result"
    }
   ],
   "source": [
    "np.concatenate(([[1],[2]],[['a'],['b']]),axis=1)"
   ]
  },
  {
   "cell_type": "code",
   "execution_count": 12,
   "id": "0f9fec8a",
   "metadata": {},
   "outputs": [],
   "source": [
    "X2 = df[['poll_age','poll_npl_min','poll_npl_max','dur_min','dur_max']].to_numpy()"
   ]
  },
  {
   "cell_type": "code",
   "execution_count": 13,
   "id": "7925cd47",
   "metadata": {
    "scrolled": true
   },
   "outputs": [
    {
     "data": {
      "text/plain": [
       "(23530, 69)"
      ]
     },
     "execution_count": 13,
     "metadata": {},
     "output_type": "execute_result"
    }
   ],
   "source": [
    "X = np.concatenate((X2,X_pca),axis=1)\n",
    "X.shape"
   ]
  },
  {
   "cell_type": "code",
   "execution_count": 21,
   "id": "8fb23143",
   "metadata": {},
   "outputs": [
    {
     "data": {
      "text/plain": [
       "RandomForestRegressor(max_depth=12, max_features=24, n_estimators=1000,\n",
       "                      n_jobs=-1)"
      ]
     },
     "execution_count": 21,
     "metadata": {},
     "output_type": "execute_result"
    }
   ],
   "source": [
    "forest = RandomForestRegressor(\n",
    "    n_estimators=1000, max_depth=12, max_features=24, n_jobs=-1)\n",
    "forest.fit(X, y_all)"
   ]
  },
  {
   "cell_type": "code",
   "execution_count": 18,
   "id": "cd9c6600",
   "metadata": {},
   "outputs": [],
   "source": [
    "ny = 2021 - 2000 + 1\n",
    "trend_all = np.zeros((ny,3))\n",
    "trends = np.zeros((len(df),ny,3))\n",
    "\n",
    "for attrs,y,r in zip(\n",
    "    encoded_attrs,\n",
    "    *(df[x] for x in ['year','rating'])\n",
    "):\n",
    "    y -= 2000\n",
    "    r = [1,r,r*r]\n",
    "    trend_all[y] += r\n",
    "    for attr in np.nonzero(attrs)[0]:\n",
    "        trends[attr,y] += r"
   ]
  },
  {
   "cell_type": "code",
   "execution_count": 22,
   "id": "70a993f2",
   "metadata": {},
   "outputs": [],
   "source": [
    "# with lzma.open('model.dill.xz','wb') as f:\n",
    "with open('model.dill','wb') as f:\n",
    "    dill.dump({\n",
    "        'all_attrs': all_attrs,\n",
    "        'pca': pca,\n",
    "        'forest': forest,\n",
    "        'trend_all': trend_all,\n",
    "        'trends': trends\n",
    "    },f)"
   ]
  },
  {
   "cell_type": "code",
   "execution_count": null,
   "id": "4eace52f",
   "metadata": {},
   "outputs": [],
   "source": []
  }
 ],
 "metadata": {
  "kernelspec": {
   "display_name": "Python 3 (ipykernel)",
   "language": "python",
   "name": "python3"
  },
  "language_info": {
   "codemirror_mode": {
    "name": "ipython",
    "version": 3
   },
   "file_extension": ".py",
   "mimetype": "text/x-python",
   "name": "python",
   "nbconvert_exporter": "python",
   "pygments_lexer": "ipython3",
   "version": "3.9.9"
  }
 },
 "nbformat": 4,
 "nbformat_minor": 5
}
