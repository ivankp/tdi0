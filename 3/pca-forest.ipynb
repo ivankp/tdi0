{
 "cells": [
  {
   "cell_type": "code",
   "execution_count": 34,
   "id": "4d07441c",
   "metadata": {},
   "outputs": [],
   "source": [
    "import pandas as pd\n",
    "import numpy as np\n",
    "\n",
    "import sklearn\n",
    "from sklearn.base import BaseEstimator, TransformerMixin, RegressorMixin\n",
    "from sklearn.compose import ColumnTransformer\n",
    "from sklearn.feature_extraction import DictVectorizer\n",
    "from sklearn.preprocessing import FunctionTransformer, PolynomialFeatures\n",
    "from sklearn.pipeline import Pipeline\n",
    "from sklearn.linear_model import LinearRegression, Ridge\n",
    "from sklearn.model_selection import train_test_split, GridSearchCV\n",
    "from sklearn.decomposition import PCA\n",
    "from sklearn.cluster import KMeans\n",
    "from sklearn.tree import DecisionTreeRegressor\n",
    "from sklearn.ensemble import RandomForestRegressor\n",
    "from sklearn import metrics\n",
    "\n",
    "import matplotlib.pyplot as plt"
   ]
  },
  {
   "cell_type": "code",
   "execution_count": 35,
   "id": "dd798bce",
   "metadata": {},
   "outputs": [
    {
     "name": "stdout",
     "output_type": "stream",
     "text": [
      "23530\n"
     ]
    },
    {
     "data": {
      "text/html": [
       "<div>\n",
       "<style scoped>\n",
       "    .dataframe tbody tr th:only-of-type {\n",
       "        vertical-align: middle;\n",
       "    }\n",
       "\n",
       "    .dataframe tbody tr th {\n",
       "        vertical-align: top;\n",
       "    }\n",
       "\n",
       "    .dataframe thead th {\n",
       "        text-align: right;\n",
       "    }\n",
       "</style>\n",
       "<table border=\"1\" class=\"dataframe\">\n",
       "  <thead>\n",
       "    <tr style=\"text-align: right;\">\n",
       "      <th></th>\n",
       "      <th>year</th>\n",
       "      <th>age</th>\n",
       "      <th>poll_age</th>\n",
       "      <th>num_rated</th>\n",
       "      <th>rating</th>\n",
       "      <th>bayes_rating</th>\n",
       "      <th>owned</th>\n",
       "      <th>attrs</th>\n",
       "      <th>npl_min</th>\n",
       "      <th>npl_max</th>\n",
       "      <th>poll_npl_min</th>\n",
       "      <th>poll_npl_max</th>\n",
       "      <th>dur_min</th>\n",
       "      <th>dur_max</th>\n",
       "    </tr>\n",
       "  </thead>\n",
       "  <tbody>\n",
       "    <tr>\n",
       "      <th>387</th>\n",
       "      <td>2000</td>\n",
       "      <td>10</td>\n",
       "      <td>10.500000</td>\n",
       "      <td>337</td>\n",
       "      <td>5.81844</td>\n",
       "      <td>5.55090</td>\n",
       "      <td>697</td>\n",
       "      <td>[Card Game, Hand Management, Series, Bluffing]</td>\n",
       "      <td>3</td>\n",
       "      <td>7</td>\n",
       "      <td>3</td>\n",
       "      <td>7</td>\n",
       "      <td>3.806662</td>\n",
       "      <td>3.806662</td>\n",
       "    </tr>\n",
       "    <tr>\n",
       "      <th>475</th>\n",
       "      <td>2000</td>\n",
       "      <td>12</td>\n",
       "      <td>11.454545</td>\n",
       "      <td>7149</td>\n",
       "      <td>7.27751</td>\n",
       "      <td>6.93109</td>\n",
       "      <td>8569</td>\n",
       "      <td>[Series, Bluffing, Auction, Drafting, Card Dra...</td>\n",
       "      <td>2</td>\n",
       "      <td>5</td>\n",
       "      <td>3</td>\n",
       "      <td>5</td>\n",
       "      <td>3.806662</td>\n",
       "      <td>4.499810</td>\n",
       "    </tr>\n",
       "    <tr>\n",
       "      <th>478</th>\n",
       "      <td>2000</td>\n",
       "      <td>10</td>\n",
       "      <td>9.898396</td>\n",
       "      <td>49176</td>\n",
       "      <td>7.07999</td>\n",
       "      <td>6.97364</td>\n",
       "      <td>65605</td>\n",
       "      <td>[Tableau Building, Series, Bluffing, Drafting,...</td>\n",
       "      <td>2</td>\n",
       "      <td>8</td>\n",
       "      <td>2</td>\n",
       "      <td>7</td>\n",
       "      <td>2.995732</td>\n",
       "      <td>4.094345</td>\n",
       "    </tr>\n",
       "    <tr>\n",
       "      <th>481</th>\n",
       "      <td>2000</td>\n",
       "      <td>12</td>\n",
       "      <td>10.785714</td>\n",
       "      <td>3429</td>\n",
       "      <td>6.81879</td>\n",
       "      <td>6.38725</td>\n",
       "      <td>3909</td>\n",
       "      <td>[Team-Based Game, Area Majority / Influence, D...</td>\n",
       "      <td>2</td>\n",
       "      <td>4</td>\n",
       "      <td>2</td>\n",
       "      <td>4</td>\n",
       "      <td>4.094345</td>\n",
       "      <td>4.094345</td>\n",
       "    </tr>\n",
       "    <tr>\n",
       "      <th>490</th>\n",
       "      <td>2000</td>\n",
       "      <td>12</td>\n",
       "      <td>10.200000</td>\n",
       "      <td>262</td>\n",
       "      <td>7.70292</td>\n",
       "      <td>5.65154</td>\n",
       "      <td>340</td>\n",
       "      <td>[Print &amp; Play, Wargame, Dice, Hexagon Grid, My...</td>\n",
       "      <td>2</td>\n",
       "      <td>6</td>\n",
       "      <td>2</td>\n",
       "      <td>6</td>\n",
       "      <td>4.094345</td>\n",
       "      <td>4.094345</td>\n",
       "    </tr>\n",
       "  </tbody>\n",
       "</table>\n",
       "</div>"
      ],
      "text/plain": [
       "     year  age   poll_age  num_rated   rating  bayes_rating  owned  \\\n",
       "387  2000   10  10.500000        337  5.81844       5.55090    697   \n",
       "475  2000   12  11.454545       7149  7.27751       6.93109   8569   \n",
       "478  2000   10   9.898396      49176  7.07999       6.97364  65605   \n",
       "481  2000   12  10.785714       3429  6.81879       6.38725   3909   \n",
       "490  2000   12  10.200000        262  7.70292       5.65154    340   \n",
       "\n",
       "                                                 attrs  npl_min  npl_max  \\\n",
       "387     [Card Game, Hand Management, Series, Bluffing]        3        7   \n",
       "475  [Series, Bluffing, Auction, Drafting, Card Dra...        2        5   \n",
       "478  [Tableau Building, Series, Bluffing, Drafting,...        2        8   \n",
       "481  [Team-Based Game, Area Majority / Influence, D...        2        4   \n",
       "490  [Print & Play, Wargame, Dice, Hexagon Grid, My...        2        6   \n",
       "\n",
       "     poll_npl_min  poll_npl_max   dur_min   dur_max  \n",
       "387             3             7  3.806662  3.806662  \n",
       "475             3             5  3.806662  4.499810  \n",
       "478             2             7  2.995732  4.094345  \n",
       "481             2             4  4.094345  4.094345  \n",
       "490             2             6  4.094345  4.094345  "
      ]
     },
     "execution_count": 35,
     "metadata": {},
     "output_type": "execute_result"
    }
   ],
   "source": [
    "df = pd.read_pickle(\"df.pkl\")\n",
    "print(len(df))\n",
    "df.head(5)"
   ]
  },
  {
   "cell_type": "code",
   "execution_count": 36,
   "id": "7ce51799",
   "metadata": {},
   "outputs": [],
   "source": [
    "class DictEncoder(BaseEstimator, TransformerMixin):\n",
    "    def fit(self, X, y=None):\n",
    "        return self\n",
    "    def transform(self, X):\n",
    "        for xs in X:\n",
    "            yield { x: 1 for x in xs }"
   ]
  },
  {
   "cell_type": "code",
   "execution_count": 51,
   "id": "c87e43e4",
   "metadata": {},
   "outputs": [
    {
     "data": {
      "text/plain": [
       "(23530, 69)"
      ]
     },
     "execution_count": 51,
     "metadata": {},
     "output_type": "execute_result"
    }
   ],
   "source": [
    "binary_encoder = Pipeline([\n",
    "    ('encode',   DictEncoder()),\n",
    "    ('vectorize',DictVectorizer(sparse=False))\n",
    "])\n",
    "X_all = Pipeline([\n",
    "    ('attrs',ColumnTransformer([\n",
    "        ('attrs',Pipeline([\n",
    "            ('encode',binary_encoder),\n",
    "            ('pca',PCA(n_components=64))\n",
    "        ]),'attrs'),\n",
    "        ('age','passthrough',[\n",
    "            'poll_age','poll_npl_min','poll_npl_max','dur_min','dur_max'\n",
    "        ])\n",
    "    ]))\n",
    "]).fit_transform(df)\n",
    "X_all.shape"
   ]
  },
  {
   "cell_type": "code",
   "execution_count": 57,
   "id": "d90b4292",
   "metadata": {},
   "outputs": [
    {
     "data": {
      "text/plain": [
       "(23530, 64)"
      ]
     },
     "execution_count": 57,
     "metadata": {},
     "output_type": "execute_result"
    }
   ],
   "source": [
    "binary_encoder = Pipeline([\n",
    "    ('encode',   DictEncoder()),\n",
    "    ('vectorize',DictVectorizer(sparse=False))\n",
    "])\n",
    "X_all = Pipeline([\n",
    "    ('features',ColumnTransformer([\n",
    "        ('attrs',Pipeline([\n",
    "            ('encode',binary_encoder)\n",
    "        ]),'attrs'),\n",
    "        ('age','passthrough',[\n",
    "            'poll_age','poll_npl_min','poll_npl_max','dur_min','dur_max'\n",
    "        ])\n",
    "    ])),\n",
    "    ('pca',PCA(n_components=64))\n",
    "]).fit_transform(df)\n",
    "X_all.shape"
   ]
  },
  {
   "cell_type": "code",
   "execution_count": 58,
   "id": "8cee6c3e",
   "metadata": {},
   "outputs": [],
   "source": [
    "class ScaleRatingByYear(BaseEstimator, TransformerMixin):\n",
    "    def fit(self, X, y=None):\n",
    "        self.m = {\n",
    "            key: vals for key,*vals in\n",
    "            X.groupby('year').agg({'rating':['mean','std']}).to_records()\n",
    "        }\n",
    "        return self\n",
    "    def transform(self, X):\n",
    "        def scale(x):\n",
    "            mean, std = self.m[x[0]]\n",
    "            return (x[1]-mean)/std\n",
    "        return X[['year','rating']].apply(scale,axis=1)"
   ]
  },
  {
   "cell_type": "code",
   "execution_count": 59,
   "id": "93d32137",
   "metadata": {},
   "outputs": [],
   "source": [
    "y_all = ScaleRatingByYear().fit_transform(df).to_numpy()"
   ]
  },
  {
   "cell_type": "code",
   "execution_count": 60,
   "id": "441ee72e",
   "metadata": {},
   "outputs": [],
   "source": [
    "# X_pca = PCA(n_components=64).fit_transform(X_all)"
   ]
  },
  {
   "cell_type": "code",
   "execution_count": 61,
   "id": "83cf9988",
   "metadata": {},
   "outputs": [],
   "source": [
    "X_train, X_test, y_train, y_test = train_test_split(\n",
    "    X_all, y_all, test_size=0.35, random_state=123)"
   ]
  },
  {
   "cell_type": "code",
   "execution_count": 62,
   "id": "cc8924ac",
   "metadata": {},
   "outputs": [
    {
     "data": {
      "text/plain": [
       "RandomForestRegressor(max_depth=8, max_features=10, n_estimators=1000,\n",
       "                      n_jobs=-1)"
      ]
     },
     "execution_count": 62,
     "metadata": {},
     "output_type": "execute_result"
    }
   ],
   "source": [
    "forest = RandomForestRegressor(n_estimators=1000, max_depth=8, max_features=10, n_jobs=-1)\n",
    "forest.fit(X_train, y_train)"
   ]
  },
  {
   "cell_type": "code",
   "execution_count": 68,
   "id": "bb661aaf",
   "metadata": {},
   "outputs": [
    {
     "data": {
      "text/plain": [
       "0.5257996554197645"
      ]
     },
     "execution_count": 68,
     "metadata": {},
     "output_type": "execute_result"
    }
   ],
   "source": [
    "forest.score(X_train, y_train)"
   ]
  },
  {
   "cell_type": "code",
   "execution_count": 64,
   "id": "e0035f1e",
   "metadata": {},
   "outputs": [
    {
     "data": {
      "text/plain": [
       "0.44695524055623836"
      ]
     },
     "execution_count": 64,
     "metadata": {},
     "output_type": "execute_result"
    }
   ],
   "source": [
    "forest.score(X_test, y_test)"
   ]
  },
  {
   "cell_type": "code",
   "execution_count": 22,
   "id": "8db40072",
   "metadata": {},
   "outputs": [],
   "source": [
    "forest_gs = GridSearchCV(\n",
    "    RandomForestRegressor(n_estimators=500, n_jobs=-1),\n",
    "    { 'max_depth': [2,4,8,12,16],\n",
    "      'max_features': [8,16,32,64]\n",
    "    },\n",
    "    cv=3\n",
    ").fit(X_train, y_train)"
   ]
  },
  {
   "cell_type": "code",
   "execution_count": 24,
   "id": "f5b00cb9",
   "metadata": {},
   "outputs": [
    {
     "data": {
      "text/plain": [
       "{'mean_fit_time': array([  2.72261453,   5.46263957,  12.16833719,  23.88698268,\n",
       "          6.13963842,  11.73165536,  23.00575956,  44.94255304,\n",
       "         10.76656739,  25.2597812 ,  70.89996155, 138.74330266,\n",
       "         24.84024151,  47.92540836,  94.42621088, 184.51554497,\n",
       "         29.90930239,  58.14761567, 118.88452506, 228.71328545]),\n",
       " 'std_fit_time': array([0.24935826, 0.72091849, 0.03786573, 0.04755392, 0.02150349,\n",
       "        0.03773395, 0.02932196, 0.14009023, 0.01071674, 6.19604828,\n",
       "        0.30132518, 1.63203191, 0.05091426, 0.11865202, 0.35944977,\n",
       "        0.91730194, 0.11232006, 0.33859065, 1.67607622, 1.18577965]),\n",
       " 'mean_score_time': array([0.09714421, 0.06951594, 0.0673209 , 0.0675052 , 0.07917968,\n",
       "        0.0791537 , 0.08005865, 0.07721814, 0.14738329, 0.14765978,\n",
       "        0.16722973, 0.1256144 , 0.22342443, 0.19288898, 0.21348214,\n",
       "        0.18002343, 0.29985944, 0.28812059, 0.2579066 , 0.22595501]),\n",
       " 'std_score_time': array([0.04470763, 0.00061771, 0.00111072, 0.00114271, 0.00143802,\n",
       "        0.00421073, 0.00203533, 0.00171918, 0.00219803, 0.02731156,\n",
       "        0.01180688, 0.00887309, 0.0111391 , 0.00313   , 0.01278293,\n",
       "        0.0056853 , 0.01327085, 0.00653742, 0.0070076 , 0.0059236 ]),\n",
       " 'param_max_depth': masked_array(data=[2, 2, 2, 2, 4, 4, 4, 4, 8, 8, 8, 8, 12, 12, 12, 12, 16,\n",
       "                    16, 16, 16],\n",
       "              mask=[False, False, False, False, False, False, False, False,\n",
       "                    False, False, False, False, False, False, False, False,\n",
       "                    False, False, False, False],\n",
       "        fill_value='?',\n",
       "             dtype=object),\n",
       " 'param_max_features': masked_array(data=[8, 16, 32, 64, 8, 16, 32, 64, 8, 16, 32, 64, 8, 16, 32,\n",
       "                    64, 8, 16, 32, 64],\n",
       "              mask=[False, False, False, False, False, False, False, False,\n",
       "                    False, False, False, False, False, False, False, False,\n",
       "                    False, False, False, False],\n",
       "        fill_value='?',\n",
       "             dtype=object),\n",
       " 'params': [{'max_depth': 2, 'max_features': 8},\n",
       "  {'max_depth': 2, 'max_features': 16},\n",
       "  {'max_depth': 2, 'max_features': 32},\n",
       "  {'max_depth': 2, 'max_features': 64},\n",
       "  {'max_depth': 4, 'max_features': 8},\n",
       "  {'max_depth': 4, 'max_features': 16},\n",
       "  {'max_depth': 4, 'max_features': 32},\n",
       "  {'max_depth': 4, 'max_features': 64},\n",
       "  {'max_depth': 8, 'max_features': 8},\n",
       "  {'max_depth': 8, 'max_features': 16},\n",
       "  {'max_depth': 8, 'max_features': 32},\n",
       "  {'max_depth': 8, 'max_features': 64},\n",
       "  {'max_depth': 12, 'max_features': 8},\n",
       "  {'max_depth': 12, 'max_features': 16},\n",
       "  {'max_depth': 12, 'max_features': 32},\n",
       "  {'max_depth': 12, 'max_features': 64},\n",
       "  {'max_depth': 16, 'max_features': 8},\n",
       "  {'max_depth': 16, 'max_features': 16},\n",
       "  {'max_depth': 16, 'max_features': 32},\n",
       "  {'max_depth': 16, 'max_features': 64}],\n",
       " 'split0_test_score': array([0.07770949, 0.10031645, 0.12514487, 0.14343197, 0.13215685,\n",
       "        0.15979354, 0.17662312, 0.19069768, 0.21003625, 0.22551453,\n",
       "        0.23254109, 0.23494354, 0.25136334, 0.25770345, 0.25765874,\n",
       "        0.2570077 , 0.26532799, 0.26760226, 0.26662237, 0.2642892 ]),\n",
       " 'split1_test_score': array([0.07781514, 0.09789888, 0.12605692, 0.14849538, 0.13619742,\n",
       "        0.16060705, 0.18355232, 0.19560258, 0.21272244, 0.22834347,\n",
       "        0.23681403, 0.23931049, 0.25154975, 0.25845485, 0.26002366,\n",
       "        0.25889908, 0.26391708, 0.26729999, 0.2670032 , 0.26405056]),\n",
       " 'split2_test_score': array([0.07507058, 0.0974215 , 0.12232991, 0.14103405, 0.13503773,\n",
       "        0.15674547, 0.17528477, 0.18634424, 0.20542913, 0.21885792,\n",
       "        0.22514783, 0.22535837, 0.24302675, 0.24808458, 0.2484753 ,\n",
       "        0.24565611, 0.25608126, 0.25765563, 0.25602858, 0.25325317]),\n",
       " 'mean_test_score': array([0.07686507, 0.09854561, 0.12451056, 0.14432047, 0.134464  ,\n",
       "        0.15904868, 0.17848674, 0.1908815 , 0.20939594, 0.22423864,\n",
       "        0.23150098, 0.23320413, 0.24864661, 0.25474763, 0.2553859 ,\n",
       "        0.25385429, 0.26177544, 0.26418596, 0.26321805, 0.26053098]),\n",
       " 'std_test_score': array([0.00126963, 0.00126725, 0.00158628, 0.00311019, 0.00169871,\n",
       "        0.00166213, 0.00362334, 0.00378193, 0.00301171, 0.00397617,\n",
       "        0.00481916, 0.00582721, 0.00397457, 0.00472146, 0.004981  ,\n",
       "        0.00584819, 0.00406739, 0.00461929, 0.0050861 , 0.00514711]),\n",
       " 'rank_test_score': array([20, 19, 18, 16, 17, 15, 14, 13, 12, 11, 10,  9,  8,  6,  5,  7,  3,\n",
       "         1,  2,  4], dtype=int32)}"
      ]
     },
     "execution_count": 24,
     "metadata": {},
     "output_type": "execute_result"
    }
   ],
   "source": [
    "forest_gs.cv_results_"
   ]
  },
  {
   "cell_type": "code",
   "execution_count": 33,
   "id": "730ba9ab",
   "metadata": {
    "scrolled": true
   },
   "outputs": [
    {
     "name": "stdout",
     "output_type": "stream",
     "text": [
      "{'max_depth': 2, 'max_features': 8} [0.07770948860309967, 0.07781513618730806, 0.0750705776060051]\n",
      "{'max_depth': 2, 'max_features': 16} [0.10031645475652762, 0.0978988794869512, 0.09742150428673046]\n",
      "{'max_depth': 2, 'max_features': 32} [0.12514487033314725, 0.12605691916989803, 0.12232990522737897]\n",
      "{'max_depth': 2, 'max_features': 64} [0.14343196684780102, 0.14849538239923743, 0.14103404956226007]\n",
      "{'max_depth': 4, 'max_features': 8} [0.1321568519153804, 0.13619741942475405, 0.13503772623570232]\n",
      "{'max_depth': 4, 'max_features': 16} [0.1597935360173981, 0.1606070450237035, 0.15674547278953133]\n",
      "{'max_depth': 4, 'max_features': 32} [0.17662312180225326, 0.18355232068787175, 0.17528477448838786]\n",
      "{'max_depth': 4, 'max_features': 64} [0.19069768004727272, 0.1956025776156749, 0.18634424379433723]\n",
      "{'max_depth': 8, 'max_features': 8} [0.2100362534485235, 0.21272244221132575, 0.20542912509342004]\n",
      "{'max_depth': 8, 'max_features': 16} [0.22551452729256516, 0.228343467109141, 0.21885791569782442]\n",
      "{'max_depth': 8, 'max_features': 32} [0.23254108549054175, 0.23681403425566228, 0.22514782567129776]\n",
      "{'max_depth': 8, 'max_features': 64} [0.2349435441379154, 0.2393104942360078, 0.2253583652563117]\n",
      "{'max_depth': 12, 'max_features': 8} [0.2513633358351962, 0.2515497463953167, 0.2430267499668427]\n",
      "{'max_depth': 12, 'max_features': 16} [0.2577034453232655, 0.25845485412826286, 0.2480845774442626]\n",
      "{'max_depth': 12, 'max_features': 32} [0.2576587383473108, 0.260023662227446, 0.24847530195776557]\n",
      "{'max_depth': 12, 'max_features': 64} [0.2570076964452359, 0.2588990758861148, 0.24565610789064007]\n",
      "{'max_depth': 16, 'max_features': 8} [0.2653279948184112, 0.2639170817906652, 0.2560812563471385]\n",
      "{'max_depth': 16, 'max_features': 16} [0.2676022581784544, 0.2672999907639828, 0.25765562660990404]\n",
      "{'max_depth': 16, 'max_features': 32} [0.26662236968995023, 0.2670031995315656, 0.256028584361791]\n",
      "{'max_depth': 16, 'max_features': 64} [0.26428920411309775, 0.2640505577346961, 0.253253174530502]\n"
     ]
    }
   ],
   "source": [
    "for i,p in enumerate(forest_gs.cv_results_['params']):\n",
    "    print(\n",
    "        p,\n",
    "        [ forest_gs.cv_results_[f'split{j}_test_score'][i] for j in range(forest_gs.cv) ]\n",
    "    )"
   ]
  },
  {
   "cell_type": "code",
   "execution_count": 53,
   "id": "7dd23b3d",
   "metadata": {},
   "outputs": [],
   "source": [
    "models = [\n",
    "    RandomForestRegressor(\n",
    "        n_estimators=1000, max_depth=x, max_features=10, n_jobs=-1\n",
    "    ).fit(X_train, y_train)\n",
    "    for x in range(2,16)\n",
    "]\n",
    "\n",
    "train_errors = []\n",
    "test_errors = []\n",
    "for model in models:\n",
    "    train_errors.append(metrics.mean_squared_error(y_train, model.predict(X_train)))\n",
    "    test_errors.append(metrics.mean_squared_error(y_test, model.predict(X_test)))"
   ]
  },
  {
   "cell_type": "code",
   "execution_count": 55,
   "id": "cca17aaa",
   "metadata": {},
   "outputs": [
    {
     "data": {
      "text/plain": [
       "<matplotlib.legend.Legend at 0x7fba5d174d60>"
      ]
     },
     "execution_count": 55,
     "metadata": {},
     "output_type": "execute_result"
    },
    {
     "data": {
      "image/png": "[encoded data removed]",
      "text/plain": [
       "<Figure size 432x288 with 1 Axes>"
      ]
     },
     "metadata": {
      "needs_background": "light"
     },
     "output_type": "display_data"
    }
   ],
   "source": [
    "plt.plot(range(2,16), train_errors, 'k-', label='Training error')\n",
    "plt.plot(range(2,16), test_errors, 'b-', label='Testing error')\n",
    "plt.xlabel('hyper-parameter')\n",
    "plt.ylabel('MSE')\n",
    "plt.legend(loc='upper right')"
   ]
  },
  {
   "cell_type": "code",
   "execution_count": null,
   "id": "4fe0d1d6",
   "metadata": {},
   "outputs": [],
   "source": [
    "class Predictor():\n",
    "    def __init__(self,pca):\n",
    "        self.pca = pca"
   ]
  }
 ],
 "metadata": {
  "kernelspec": {
   "display_name": "Python 3 (ipykernel)",
   "language": "python",
   "name": "python3"
  },
  "language_info": {
   "codemirror_mode": {
    "name": "ipython",
    "version": 3
   },
   "file_extension": ".py",
   "mimetype": "text/x-python",
   "name": "python",
   "nbconvert_exporter": "python",
   "pygments_lexer": "ipython3",
   "version": "3.9.9"
  }
 },
 "nbformat": 4,
 "nbformat_minor": 5
}
